{
  "nbformat": 4,
  "nbformat_minor": 0,
  "metadata": {
    "colab": {
      "provenance": [],
      "authorship_tag": "ABX9TyMbNz/c1BgAMkSAPuGQBMuJ",
      "include_colab_link": true
    },
    "kernelspec": {
      "name": "python3",
      "display_name": "Python 3"
    },
    "language_info": {
      "name": "python"
    }
  },
  "cells": [
    {
      "cell_type": "markdown",
      "metadata": {
        "id": "view-in-github",
        "colab_type": "text"
      },
      "source": [
        "<a href=\"https://colab.research.google.com/github/PauloHBSF/MonitoriaAdmFin/blob/main/Extrair_PrecoAcaoEQntdAcoes.ipynb\" target=\"_parent\"><img src=\"https://colab.research.google.com/assets/colab-badge.svg\" alt=\"Open In Colab\"/></a>"
      ]
    },
    {
      "cell_type": "code",
      "execution_count": null,
      "metadata": {
        "id": "zWUG8dCJUHRp"
      },
      "outputs": [],
      "source": [
        "import yfinance as yf\n",
        "import datetime\n",
        "import pandas as pd"
      ]
    },
    {
      "cell_type": "code",
      "source": [
        "#EXEMPLO:\n",
        "\n",
        "\"\"\"\n",
        "Estou analisando a Suzano. Vou no google\n",
        "e pesquisa \"Suzano Yahoo Finance\".\n",
        "Identifico que o Ticker neste site é: SUZB3.SA;\n",
        "Este é o ticker que deverá ser passado como\n",
        "string em minha_acao abaixo\n",
        "\"\"\"\n",
        "\n",
        "#MODIFIQUE SEU TICKER AQUI\n",
        "#\\/ \\/ \\/ \\/ \\/ \\/ \\/ \\/\n",
        "\"\"\"\"\"\"\"\"\"\"\"\"\"\"\"\"\"\"\"\"\"\"\"\"\n",
        "\n",
        "minha_acao = \"SUZB3.SA\"\n",
        "\n",
        "\"\"\"\"\"\"\"\"\"\"\"\"\"\"\"\"\"\"\"\"\"\"\"\"\n",
        "#/\\ /\\ /\\ /\\ /\\ /\\ /\\ /\\\n",
        "#MODIFIQUE SEU TICKER AQUI\n",
        "\n",
        "\n",
        "year = datetime.date.today().year\n",
        "\n",
        "stock = yf.Ticker(minha_acao)\n",
        "stock_hist = stock.history(period = \"4y\")\n",
        "shares = stock.get_shares_full(start = f\"{year-(3)}-12-01\", end = f\"{year-1}-12-31\")\n",
        "shares_df = pd.DataFrame(shares)\n",
        "shares_df.reset_index(inplace=True)\n",
        "shares_df.columns = ['Date', 'Shares']\n",
        "last_share_data_of_year_df = shares_df.groupby(pd.DatetimeIndex(shares_df['Date']).year, as_index=False).agg({'Date': max, 'Shares': 'last'}).reset_index(drop=True)\n",
        "\n",
        "\n",
        "stock_prices = yf.download(minha_acao, period=\"4y\")\n",
        "prices_df = pd.DataFrame(stock_prices)\n",
        "prices_df.reset_index(inplace=True)\n",
        "last_price_data_of_year_df = prices_df.groupby(pd.DatetimeIndex(prices_df['Date']).year, as_index=False).agg({'Date': max, 'Close': 'last'}).reset_index(drop=True)\n",
        "\n",
        "print(f\"\\n\\n{'*'*30}\\n {' '*5} Número de Ações {' '*5}\\n{'*'*30}\")\n",
        "print(last_share_data_of_year_df)\n",
        "\n",
        "print(f\"\\n\\n{'*'*30}\\n {' '*5} Preço das Ações {' '*5}\\n{'*'*30}\")\n",
        "print(last_price_data_of_year_df)\n"
      ],
      "metadata": {
        "colab": {
          "base_uri": "https://localhost:8080/"
        },
        "id": "QYPetKkxUNhs",
        "outputId": "b10a3bf4-5a52-4ed9-a491-bcf0b3154826"
      },
      "execution_count": null,
      "outputs": [
        {
          "output_type": "stream",
          "name": "stdout",
          "text": [
            "\r[*********************100%%**********************]  1 of 1 completed\n",
            "\n",
            "\n",
            "******************************\n",
            "       Número de Ações      \n",
            "******************************\n",
            "                       Date      Shares\n",
            "0 2020-12-31 00:00:00-03:00  1352050048\n",
            "1 2021-12-22 00:00:00-03:00  1349219968\n",
            "2 2022-12-31 00:00:00-03:00  1309350016\n",
            "\n",
            "\n",
            "******************************\n",
            "       Preço das Ações      \n",
            "******************************\n",
            "        Date      Close\n",
            "0 2019-12-30  39.680000\n",
            "1 2020-12-30  58.540001\n",
            "2 2021-12-30  60.110001\n",
            "3 2022-12-29  48.240002\n",
            "4 2023-08-18  50.680000\n"
          ]
        }
      ]
    }
  ]
}